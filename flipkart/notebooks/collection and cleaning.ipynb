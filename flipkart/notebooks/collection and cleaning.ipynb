{
 "cells": [
  {
   "cell_type": "code",
   "execution_count": null,
   "id": "50b8fdf0-8838-436c-b4b2-d4e0c4045c13",
   "metadata": {},
   "outputs": [
    {
     "name": "stdout",
     "output_type": "stream",
     "text": [
      "Radhe Radhe\n"
     ]
    }
   ],
   "source": [
    "print(\"Radhe Radhe\")"
   ]
  },
  {
   "cell_type": "markdown",
   "id": "45546863-4bad-48a1-8ac9-66edc34807ce",
   "metadata": {},
   "source": [
    "**IMPORT LIBRAIRIES**"
   ]
  },
  {
   "cell_type": "code",
   "execution_count": null,
   "id": "59f74ecf-eb80-464d-bfc7-308e69df4342",
   "metadata": {},
   "outputs": [],
   "source": [
    "import pandas as pd\n",
    "import numpy as np"
   ]
  },
  {
   "cell_type": "markdown",
   "id": "f0170546-e27f-4d16-a488-04db2931faca",
   "metadata": {},
   "source": [
    "**DATA COLLECTIONS**"
   ]
  },
  {
   "cell_type": "code",
   "execution_count": null,
   "id": "412c476d-36ca-41b6-9136-9bfb2d332582",
   "metadata": {},
   "outputs": [],
   "source": [
    "csvdata = pd.read_csv(\"flipkart_products_20250405.csv\")\n",
    "data = pd.DataFrame(csvdata)"
   ]
  },
  {
   "cell_type": "markdown",
   "id": "f655eac9-c73e-48b7-8161-921a7a026b26",
   "metadata": {},
   "source": [
    "**DATA CLEANING**"
   ]
  },
  {
   "cell_type": "code",
   "execution_count": null,
   "id": "72ed5d03-4b52-4589-9696-fd4e9ef98773",
   "metadata": {},
   "outputs": [
    {
     "data": {
      "text/html": [
       "<div>\n",
       "<style scoped>\n",
       "    .dataframe tbody tr th:only-of-type {\n",
       "        vertical-align: middle;\n",
       "    }\n",
       "\n",
       "    .dataframe tbody tr th {\n",
       "        vertical-align: top;\n",
       "    }\n",
       "\n",
       "    .dataframe thead th {\n",
       "        text-align: right;\n",
       "    }\n",
       "</style>\n",
       "<table border=\"1\" class=\"dataframe\">\n",
       "  <thead>\n",
       "    <tr style=\"text-align: right;\">\n",
       "      <th></th>\n",
       "      <th>Product Name</th>\n",
       "      <th>Price (₹)</th>\n",
       "      <th>Rating (★)</th>\n",
       "      <th>Number of Buyers</th>\n",
       "      <th>Total Sold</th>\n",
       "      <th>Available Stock</th>\n",
       "      <th>Main Category</th>\n",
       "      <th>Sub Category</th>\n",
       "      <th>Discount (%)</th>\n",
       "      <th>Seller</th>\n",
       "      <th>Return Policy</th>\n",
       "      <th>Product URL</th>\n",
       "    </tr>\n",
       "  </thead>\n",
       "  <tbody>\n",
       "    <tr>\n",
       "      <th>0</th>\n",
       "      <td>Krishnamurthy-Devan Laboriosam Ultra Smartphon...</td>\n",
       "      <td>142247.04</td>\n",
       "      <td>3.2</td>\n",
       "      <td>7348</td>\n",
       "      <td>4812</td>\n",
       "      <td>364</td>\n",
       "      <td>Electronics</td>\n",
       "      <td>Smartphones</td>\n",
       "      <td>45</td>\n",
       "      <td>RetailNet</td>\n",
       "      <td>False</td>\n",
       "      <td>https://www.flipkart.com/Krishnamurthy-Devan-L...</td>\n",
       "    </tr>\n",
       "    <tr>\n",
       "      <th>1</th>\n",
       "      <td>Nanda-Mahal Dignissimos Lite Laptops 1</td>\n",
       "      <td>186922.43</td>\n",
       "      <td>4.1</td>\n",
       "      <td>2342</td>\n",
       "      <td>881</td>\n",
       "      <td>145</td>\n",
       "      <td>Electronics</td>\n",
       "      <td>Laptops</td>\n",
       "      <td>55</td>\n",
       "      <td>Flipkart Assured</td>\n",
       "      <td>False</td>\n",
       "      <td>https://www.flipkart.com/Nanda-Mahal-Dignissim...</td>\n",
       "    </tr>\n",
       "    <tr>\n",
       "      <th>2</th>\n",
       "      <td>Choudhury LLC Amet Plus Decor 15</td>\n",
       "      <td>11843.41</td>\n",
       "      <td>5.0</td>\n",
       "      <td>739</td>\n",
       "      <td>2580</td>\n",
       "      <td>206</td>\n",
       "      <td>Home</td>\n",
       "      <td>Decor</td>\n",
       "      <td>58</td>\n",
       "      <td>SuperComNet</td>\n",
       "      <td>True</td>\n",
       "      <td>https://www.flipkart.com/Choudhury-LLC-Amet-Pl...</td>\n",
       "    </tr>\n",
       "    <tr>\n",
       "      <th>3</th>\n",
       "      <td>Borah LLC Accusantium Lite Smartphones 9</td>\n",
       "      <td>10864.31</td>\n",
       "      <td>4.8</td>\n",
       "      <td>1543</td>\n",
       "      <td>4562</td>\n",
       "      <td>1585</td>\n",
       "      <td>Electronics</td>\n",
       "      <td>Smartphones</td>\n",
       "      <td>0</td>\n",
       "      <td>ElectroWorld</td>\n",
       "      <td>False</td>\n",
       "      <td>https://www.flipkart.com/Borah-LLC-Accusantium...</td>\n",
       "    </tr>\n",
       "    <tr>\n",
       "      <th>4</th>\n",
       "      <td>Murty Inc Placeat Pro Smartwatches 8</td>\n",
       "      <td>32950.41</td>\n",
       "      <td>4.5</td>\n",
       "      <td>7702</td>\n",
       "      <td>4925</td>\n",
       "      <td>1064</td>\n",
       "      <td>Electronics</td>\n",
       "      <td>Smartwatches</td>\n",
       "      <td>18</td>\n",
       "      <td>MobileHub</td>\n",
       "      <td>False</td>\n",
       "      <td>https://www.flipkart.com/Murty-Inc-Placeat-Pro...</td>\n",
       "    </tr>\n",
       "    <tr>\n",
       "      <th>...</th>\n",
       "      <td>...</td>\n",
       "      <td>...</td>\n",
       "      <td>...</td>\n",
       "      <td>...</td>\n",
       "      <td>...</td>\n",
       "      <td>...</td>\n",
       "      <td>...</td>\n",
       "      <td>...</td>\n",
       "      <td>...</td>\n",
       "      <td>...</td>\n",
       "      <td>...</td>\n",
       "      <td>...</td>\n",
       "    </tr>\n",
       "    <tr>\n",
       "      <th>4995</th>\n",
       "      <td>Sampath-Sama Repellat Pro T-Shirts 11</td>\n",
       "      <td>1620.65</td>\n",
       "      <td>4.9</td>\n",
       "      <td>568</td>\n",
       "      <td>5322</td>\n",
       "      <td>2126</td>\n",
       "      <td>Fashion</td>\n",
       "      <td>T-Shirts</td>\n",
       "      <td>9</td>\n",
       "      <td>RetailNet</td>\n",
       "      <td>False</td>\n",
       "      <td>https://www.flipkart.com/Sampath-Sama-Repellat...</td>\n",
       "    </tr>\n",
       "    <tr>\n",
       "      <th>4996</th>\n",
       "      <td>Sekhon, Sachdeva and Chakrabarti Hic Plus Shoe...</td>\n",
       "      <td>18414.64</td>\n",
       "      <td>4.4</td>\n",
       "      <td>9103</td>\n",
       "      <td>7361</td>\n",
       "      <td>3133</td>\n",
       "      <td>Fashion</td>\n",
       "      <td>Shoes</td>\n",
       "      <td>44</td>\n",
       "      <td>ElectroWorld</td>\n",
       "      <td>False</td>\n",
       "      <td>https://www.flipkart.com/Sekhon,-Sachdeva-and-...</td>\n",
       "    </tr>\n",
       "    <tr>\n",
       "      <th>4997</th>\n",
       "      <td>Mittal, Sinha and Kumer Asperiores Lite Washin...</td>\n",
       "      <td>24841.94</td>\n",
       "      <td>3.1</td>\n",
       "      <td>6124</td>\n",
       "      <td>4164</td>\n",
       "      <td>900</td>\n",
       "      <td>Appliances</td>\n",
       "      <td>Washing Machines</td>\n",
       "      <td>8</td>\n",
       "      <td>SuperComNet</td>\n",
       "      <td>False</td>\n",
       "      <td>https://www.flipkart.com/Mittal,-Sinha-and-Kum...</td>\n",
       "    </tr>\n",
       "    <tr>\n",
       "      <th>4998</th>\n",
       "      <td>Suresh Ltd Voluptatibus Plus Furniture 13</td>\n",
       "      <td>25177.89</td>\n",
       "      <td>3.4</td>\n",
       "      <td>4536</td>\n",
       "      <td>1645</td>\n",
       "      <td>414</td>\n",
       "      <td>Home</td>\n",
       "      <td>Furniture</td>\n",
       "      <td>0</td>\n",
       "      <td>MobileHub</td>\n",
       "      <td>True</td>\n",
       "      <td>https://www.flipkart.com/Suresh-Ltd-Voluptatib...</td>\n",
       "    </tr>\n",
       "    <tr>\n",
       "      <th>4999</th>\n",
       "      <td>Padmanabhan Inc Harum Lite Furniture 15</td>\n",
       "      <td>34636.40</td>\n",
       "      <td>3.5</td>\n",
       "      <td>6309</td>\n",
       "      <td>6791</td>\n",
       "      <td>1713</td>\n",
       "      <td>Home</td>\n",
       "      <td>Furniture</td>\n",
       "      <td>14</td>\n",
       "      <td>Flipkart Assured</td>\n",
       "      <td>False</td>\n",
       "      <td>https://www.flipkart.com/Padmanabhan-Inc-Harum...</td>\n",
       "    </tr>\n",
       "  </tbody>\n",
       "</table>\n",
       "<p>5000 rows × 12 columns</p>\n",
       "</div>"
      ],
      "text/plain": [
       "                                           Product Name  Price (₹)  \\\n",
       "0     Krishnamurthy-Devan Laboriosam Ultra Smartphon...  142247.04   \n",
       "1                Nanda-Mahal Dignissimos Lite Laptops 1  186922.43   \n",
       "2                      Choudhury LLC Amet Plus Decor 15   11843.41   \n",
       "3              Borah LLC Accusantium Lite Smartphones 9   10864.31   \n",
       "4                  Murty Inc Placeat Pro Smartwatches 8   32950.41   \n",
       "...                                                 ...        ...   \n",
       "4995              Sampath-Sama Repellat Pro T-Shirts 11    1620.65   \n",
       "4996  Sekhon, Sachdeva and Chakrabarti Hic Plus Shoe...   18414.64   \n",
       "4997  Mittal, Sinha and Kumer Asperiores Lite Washin...   24841.94   \n",
       "4998          Suresh Ltd Voluptatibus Plus Furniture 13   25177.89   \n",
       "4999            Padmanabhan Inc Harum Lite Furniture 15   34636.40   \n",
       "\n",
       "      Rating (★)  Number of Buyers  Total Sold  Available Stock Main Category  \\\n",
       "0            3.2              7348        4812              364   Electronics   \n",
       "1            4.1              2342         881              145   Electronics   \n",
       "2            5.0               739        2580              206          Home   \n",
       "3            4.8              1543        4562             1585   Electronics   \n",
       "4            4.5              7702        4925             1064   Electronics   \n",
       "...          ...               ...         ...              ...           ...   \n",
       "4995         4.9               568        5322             2126       Fashion   \n",
       "4996         4.4              9103        7361             3133       Fashion   \n",
       "4997         3.1              6124        4164              900    Appliances   \n",
       "4998         3.4              4536        1645              414          Home   \n",
       "4999         3.5              6309        6791             1713          Home   \n",
       "\n",
       "          Sub Category  Discount (%)            Seller  Return Policy  \\\n",
       "0          Smartphones            45         RetailNet          False   \n",
       "1              Laptops            55  Flipkart Assured          False   \n",
       "2                Decor            58       SuperComNet           True   \n",
       "3          Smartphones             0      ElectroWorld          False   \n",
       "4         Smartwatches            18         MobileHub          False   \n",
       "...                ...           ...               ...            ...   \n",
       "4995          T-Shirts             9         RetailNet          False   \n",
       "4996             Shoes            44      ElectroWorld          False   \n",
       "4997  Washing Machines             8       SuperComNet          False   \n",
       "4998         Furniture             0         MobileHub           True   \n",
       "4999         Furniture            14  Flipkart Assured          False   \n",
       "\n",
       "                                            Product URL  \n",
       "0     https://www.flipkart.com/Krishnamurthy-Devan-L...  \n",
       "1     https://www.flipkart.com/Nanda-Mahal-Dignissim...  \n",
       "2     https://www.flipkart.com/Choudhury-LLC-Amet-Pl...  \n",
       "3     https://www.flipkart.com/Borah-LLC-Accusantium...  \n",
       "4     https://www.flipkart.com/Murty-Inc-Placeat-Pro...  \n",
       "...                                                 ...  \n",
       "4995  https://www.flipkart.com/Sampath-Sama-Repellat...  \n",
       "4996  https://www.flipkart.com/Sekhon,-Sachdeva-and-...  \n",
       "4997  https://www.flipkart.com/Mittal,-Sinha-and-Kum...  \n",
       "4998  https://www.flipkart.com/Suresh-Ltd-Voluptatib...  \n",
       "4999  https://www.flipkart.com/Padmanabhan-Inc-Harum...  \n",
       "\n",
       "[5000 rows x 12 columns]"
      ]
     },
     "execution_count": 293,
     "metadata": {},
     "output_type": "execute_result"
    }
   ],
   "source": [
    "data.drop_duplicates()"
   ]
  },
  {
   "cell_type": "markdown",
   "id": "da8e5122-424a-489f-a293-8839ca02e104",
   "metadata": {},
   "source": [
    "**EXPLORETELY DATA ANALYTICS**"
   ]
  },
  {
   "cell_type": "code",
   "execution_count": null,
   "id": "acb25a0d-1928-4399-bb93-e3ec8e05dacd",
   "metadata": {},
   "outputs": [
    {
     "name": "stdout",
     "output_type": "stream",
     "text": [
      "<class 'pandas.core.frame.DataFrame'>\n",
      "RangeIndex: 5000 entries, 0 to 4999\n",
      "Data columns (total 12 columns):\n",
      " #   Column            Non-Null Count  Dtype  \n",
      "---  ------            --------------  -----  \n",
      " 0   Product Name      5000 non-null   object \n",
      " 1   Price (₹)         5000 non-null   float64\n",
      " 2   Rating (★)        5000 non-null   float64\n",
      " 3   Number of Buyers  5000 non-null   int64  \n",
      " 4   Total Sold        5000 non-null   int64  \n",
      " 5   Available Stock   5000 non-null   int64  \n",
      " 6   Main Category     5000 non-null   object \n",
      " 7   Sub Category      5000 non-null   object \n",
      " 8   Discount (%)      5000 non-null   int64  \n",
      " 9   Seller            5000 non-null   object \n",
      " 10  Return Policy     5000 non-null   bool   \n",
      " 11  Product URL       5000 non-null   object \n",
      "dtypes: bool(1), float64(2), int64(4), object(5)\n",
      "memory usage: 434.7+ KB\n"
     ]
    }
   ],
   "source": [
    "data.info()"
   ]
  },
  {
   "cell_type": "markdown",
   "id": "8fd3a9f4",
   "metadata": {},
   "source": [
    "*Total product by categhory*"
   ]
  },
  {
   "cell_type": "code",
   "execution_count": null,
   "id": "5869ccf1-a826-405e-be09-7c0bdf7b9ba6",
   "metadata": {},
   "outputs": [
    {
     "data": {
      "text/html": [
       "<div>\n",
       "<style scoped>\n",
       "    .dataframe tbody tr th:only-of-type {\n",
       "        vertical-align: middle;\n",
       "    }\n",
       "\n",
       "    .dataframe tbody tr th {\n",
       "        vertical-align: top;\n",
       "    }\n",
       "\n",
       "    .dataframe thead tr th {\n",
       "        text-align: left;\n",
       "    }\n",
       "\n",
       "    .dataframe thead tr:last-of-type th {\n",
       "        text-align: right;\n",
       "    }\n",
       "</style>\n",
       "<table border=\"1\" class=\"dataframe\">\n",
       "  <thead>\n",
       "    <tr>\n",
       "      <th></th>\n",
       "      <th>Product Name</th>\n",
       "    </tr>\n",
       "    <tr>\n",
       "      <th></th>\n",
       "      <th>count</th>\n",
       "    </tr>\n",
       "    <tr>\n",
       "      <th>Main Category</th>\n",
       "      <th></th>\n",
       "    </tr>\n",
       "  </thead>\n",
       "  <tbody>\n",
       "    <tr>\n",
       "      <th>Appliances</th>\n",
       "      <td>1263</td>\n",
       "    </tr>\n",
       "    <tr>\n",
       "      <th>Electronics</th>\n",
       "      <td>1275</td>\n",
       "    </tr>\n",
       "    <tr>\n",
       "      <th>Fashion</th>\n",
       "      <td>1239</td>\n",
       "    </tr>\n",
       "    <tr>\n",
       "      <th>Home</th>\n",
       "      <td>1223</td>\n",
       "    </tr>\n",
       "  </tbody>\n",
       "</table>\n",
       "</div>"
      ],
      "text/plain": [
       "              Product Name\n",
       "                     count\n",
       "Main Category             \n",
       "Appliances            1263\n",
       "Electronics           1275\n",
       "Fashion               1239\n",
       "Home                  1223"
      ]
     },
     "execution_count": 298,
     "metadata": {},
     "output_type": "execute_result"
    }
   ],
   "source": [
    "data.groupby('Main Category').agg({\n",
    "    'Product Name': ['count']})"
   ]
  },
  {
   "cell_type": "markdown",
   "id": "6ac1402a",
   "metadata": {},
   "source": [
    "Top Saling Product"
   ]
  },
  {
   "cell_type": "code",
   "execution_count": 300,
   "id": "8fcbb6fb-07d3-4323-b2fe-235a297789f7",
   "metadata": {},
   "outputs": [
    {
     "name": "stdout",
     "output_type": "stream",
     "text": [
      "top product = Puri Ltd Qui Ultra Smartphones 7\n"
     ]
    }
   ],
   "source": [
    "new_data = data.groupby('Product Name').agg({\n",
    "    'Total Sold': 'sum'})\n",
    "new_data = data.sort_values(by='Total Sold', ascending=False)\n",
    "print(\"top product =\",new_data['Product Name'][4292])"
   ]
  },
  {
   "cell_type": "markdown",
   "id": "407c8db7",
   "metadata": {},
   "source": [
    "Top performing category"
   ]
  },
  {
   "cell_type": "code",
   "execution_count": 302,
   "id": "59f413f7-8751-4d61-af92-8fd1b7ce14d0",
   "metadata": {},
   "outputs": [
    {
     "name": "stdout",
     "output_type": "stream",
     "text": [
      "Top performing category = Electronics\n"
     ]
    }
   ],
   "source": [
    "new_data =data.groupby('Main Category').agg({\n",
    "    'Total Sold': 'sum'\n",
    "})\n",
    "new_data = data.sort_values(by='Total Sold', ascending=False)\n",
    "print(\"Top performing category =\",new_data['Main Category'][4292])"
   ]
  },
  {
   "cell_type": "code",
   "execution_count": 304,
   "id": "e87c90d3-b9d1-4a61-8df2-c9fc44117853",
   "metadata": {},
   "outputs": [
    {
     "name": "stdout",
     "output_type": "stream",
     "text": [
      "0       3.2\n",
      "1       4.1\n",
      "2       5.0\n",
      "3       4.8\n",
      "4       4.5\n",
      "       ... \n",
      "4995    4.9\n",
      "4996    4.4\n",
      "4997    3.1\n",
      "4998    3.4\n",
      "4999    3.5\n",
      "Name: Rating (★), Length: 5000, dtype: float64\n"
     ]
    }
   ],
   "source": [
    "print(data['Rating (★)'])"
   ]
  },
  {
   "cell_type": "code",
   "execution_count": 306,
   "id": "0e020166-8423-41c3-9ef4-97202b817c58",
   "metadata": {},
   "outputs": [],
   "source": [
    "price = np.array(data['Price (₹)'])\n",
    "reting = np.array(data['Rating (★)'])"
   ]
  },
  {
   "cell_type": "markdown",
   "id": "8e6e358d",
   "metadata": {},
   "source": [
    "Reiation Between Price and Ratings"
   ]
  },
  {
   "cell_type": "code",
   "execution_count": 308,
   "id": "ca1d3f4d-b74b-4220-9134-5248f5854084",
   "metadata": {},
   "outputs": [
    {
     "data": {
      "text/plain": [
       "array([[ 1.       , -0.0296721],\n",
       "       [-0.0296721,  1.       ]])"
      ]
     },
     "execution_count": 308,
     "metadata": {},
     "output_type": "execute_result"
    }
   ],
   "source": [
    "np.corrcoef([price,reting])"
   ]
  },
  {
   "cell_type": "markdown",
   "id": "d6835241-9540-4f08-a36a-7393ef9cb055",
   "metadata": {},
   "source": [
    "PRICE IS PROPORTIONAL TO THE RATINGS"
   ]
  },
  {
   "cell_type": "code",
   "execution_count": null,
   "id": "ac8f757e-7121-4052-bd1e-13ec8c5321aa",
   "metadata": {},
   "outputs": [],
   "source": [
    "data.to_excel('flipkart_dataset.xlsx', index=False)"
   ]
  }
 ],
 "metadata": {
  "kernelspec": {
   "display_name": "Python [conda env:base] *",
   "language": "python",
   "name": "conda-base-py"
  },
  "language_info": {
   "codemirror_mode": {
    "name": "ipython",
    "version": 3
   },
   "file_extension": ".py",
   "mimetype": "text/x-python",
   "name": "python",
   "nbconvert_exporter": "python",
   "pygments_lexer": "ipython3",
   "version": "3.12.7"
  }
 },
 "nbformat": 4,
 "nbformat_minor": 5
}
