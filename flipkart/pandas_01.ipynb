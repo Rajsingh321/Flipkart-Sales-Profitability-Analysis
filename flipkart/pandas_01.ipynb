{
 "cells": [
  {
   "cell_type": "code",
   "execution_count": 1,
   "id": "23d18fbb-2701-4603-b78b-3475f62f95de",
   "metadata": {},
   "outputs": [
    {
     "name": "stdout",
     "output_type": "stream",
     "text": [
      "Shree Radhe\n"
     ]
    }
   ],
   "source": [
    "print(\"Shree Radhe\") "
   ]
  },
  {
   "cell_type": "markdown",
   "id": "d80464d4-125a-4a6f-a325-bf277839b6ff",
   "metadata": {},
   "source": [
    "**import librairy**"
   ]
  },
  {
   "cell_type": "code",
   "execution_count": 3,
   "id": "ec906f01-3cb2-4517-bccf-880262c13a98",
   "metadata": {},
   "outputs": [],
   "source": [
    "import pandas as pd "
   ]
  },
  {
   "cell_type": "markdown",
   "id": "846b9bb9-cb56-4b28-8d28-e6a3411843dc",
   "metadata": {},
   "source": [
    "**load data**"
   ]
  },
  {
   "cell_type": "code",
   "execution_count": 6,
   "id": "75232b03-0155-4e0f-b2bb-2fa5ba729c93",
   "metadata": {
    "scrolled": true
   },
   "outputs": [],
   "source": [
    "data = pd.read_excel('flipkart_dataset.xlsx')"
   ]
  },
  {
   "cell_type": "markdown",
   "id": "76731a57-7333-46ec-94d2-d1a18d0e8df7",
   "metadata": {},
   "source": [
    "data.isnull().count()"
   ]
  },
  {
   "cell_type": "code",
   "execution_count": 8,
   "id": "8875239f-95bb-49a5-ae3b-21d1ebf92531",
   "metadata": {},
   "outputs": [
    {
     "name": "stdout",
     "output_type": "stream",
     "text": [
      "<class 'pandas.core.frame.DataFrame'>\n",
      "RangeIndex: 198 entries, 0 to 197\n",
      "Data columns (total 12 columns):\n",
      " #   Column            Non-Null Count  Dtype  \n",
      "---  ------            --------------  -----  \n",
      " 0   Product Name      198 non-null    object \n",
      " 1   Price             198 non-null    float64\n",
      " 2   Rating            198 non-null    float64\n",
      " 3   Number of Buyers  198 non-null    int64  \n",
      " 4   Total Sold        198 non-null    int64  \n",
      " 5   Available Stock   198 non-null    int64  \n",
      " 6   Main Category     198 non-null    object \n",
      " 7   Sub Category      198 non-null    object \n",
      " 8   Discount (%)      198 non-null    int64  \n",
      " 9   Seller            198 non-null    object \n",
      " 10  Return Policy     198 non-null    bool   \n",
      " 11  Product URL       198 non-null    object \n",
      "dtypes: bool(1), float64(2), int64(4), object(5)\n",
      "memory usage: 17.3+ KB\n"
     ]
    }
   ],
   "source": [
    "data.info()"
   ]
  },
  {
   "cell_type": "markdown",
   "id": "a073e553-8ba9-4d20-bbe6-bec084470baa",
   "metadata": {},
   "source": [
    "**Analysis**"
   ]
  },
  {
   "cell_type": "markdown",
   "id": "54ffd596-18a2-4967-90a8-aaf6800e2468",
   "metadata": {},
   "source": [
    "**insight 1: high ordered product**"
   ]
  },
  {
   "cell_type": "code",
   "execution_count": 13,
   "id": "eff6789f-bd7b-46d8-a617-79c4a1420cd0",
   "metadata": {},
   "outputs": [
    {
     "name": "stdout",
     "output_type": "stream",
     "text": [
      "                               Product Name    Price   Rating   \\\n",
      "0          Choudhury LLC Amet Plus Decor 15  11843.41      5.0   \n",
      "1  Borah LLC Accusantium Lite Smartphones 9  10864.31      4.8   \n",
      "2      Murty Inc Placeat Pro Smartwatches 8  32950.41      4.5   \n",
      "\n",
      "   Number of Buyers  Total Sold  Available Stock Main Category  Sub Category  \\\n",
      "0               739        2580              206          Home         Decor   \n",
      "1              1543        4562             1585   Electronics   Smartphones   \n",
      "2              7702        4925             1064   Electronics  Smartwatches   \n",
      "\n",
      "   Discount (%)        Seller  Return Policy  \\\n",
      "0            58   SuperComNet           True   \n",
      "1             0  ElectroWorld          False   \n",
      "2            18     MobileHub          False   \n",
      "\n",
      "                                         Product URL  \n",
      "0  https://www.flipkart.com/Choudhury-LLC-Amet-Pl...  \n",
      "1  https://www.flipkart.com/Borah-LLC-Accusantium...  \n",
      "2  https://www.flipkart.com/Murty-Inc-Placeat-Pro...  \n"
     ]
    }
   ],
   "source": [
    "print(data.head(3))"
   ]
  },
  {
   "cell_type": "code",
   "execution_count": 16,
   "id": "875f1730-8456-44a4-aea9-55d7ded1deb2",
   "metadata": {},
   "outputs": [
    {
     "data": {
      "text/plain": [
       "9968"
      ]
     },
     "execution_count": 16,
     "metadata": {},
     "output_type": "execute_result"
    }
   ],
   "source": [
    "data[\"Total Sold\"].max()"
   ]
  },
  {
   "cell_type": "code",
   "execution_count": 18,
   "id": "8e917a73-4c2a-4887-be2c-ab00ebb1faa2",
   "metadata": {
    "scrolled": true
   },
   "outputs": [
    {
     "name": "stdout",
     "output_type": "stream",
     "text": [
      "                                                    Total Sold Main Category  \\\n",
      "Product Name                                                                   \n",
      "Dhingra PLC Provident Ultra T-Shirts 11                   9968       Fashion   \n",
      "Shroff-Sangha Totam Pro Laptops 14                        9825   Electronics   \n",
      "Gupta, Ramesh and Sridhar Dolore Pro Furniture 14         9799          Home   \n",
      "Arya and Sons Eligendi Pro T-Shirts 9                     9741       Fashion   \n",
      "Subramaniam, Dhawan and Bedi Dolorem Plus Headp...        9637   Electronics   \n",
      "\n",
      "                                                   Sub Category  \n",
      "Product Name                                                     \n",
      "Dhingra PLC Provident Ultra T-Shirts 11                T-Shirts  \n",
      "Shroff-Sangha Totam Pro Laptops 14                      Laptops  \n",
      "Gupta, Ramesh and Sridhar Dolore Pro Furniture 14     Furniture  \n",
      "Arya and Sons Eligendi Pro T-Shirts 9                  T-Shirts  \n",
      "Subramaniam, Dhawan and Bedi Dolorem Plus Headp...   Headphones  \n"
     ]
    }
   ],
   "source": [
    "max_orders = data.groupby('Product Name').agg({'Total Sold': 'max','Main Category': 'max','Sub Category': 'max',}).sort_values(by='Total Sold', ascending=False)\n",
    "print(max_orders.head(5))"
   ]
  },
  {
   "cell_type": "markdown",
   "id": "4ee4dab5-a64e-48b0-bd05-9aa94149030b",
   "metadata": {},
   "source": [
    "**Result**"
   ]
  },
  {
   "cell_type": "markdown",
   "id": "53a96334-535f-451b-a4f2-6f2c9df2575c",
   "metadata": {},
   "source": [
    "High ordered product is **Dhingra PLC Provident Ultra T-Shirts 11**"
   ]
  },
  {
   "cell_type": "markdown",
   "id": "1b7c6499-99d7-4293-b230-eabb0caee554",
   "metadata": {},
   "source": [
    "**insight 2: HIGH ORDERED MAIN CATEGORY**"
   ]
  },
  {
   "cell_type": "code",
   "execution_count": 23,
   "id": "14a62e82-3aa8-4184-8b28-2f71d4095538",
   "metadata": {
    "scrolled": true
   },
   "outputs": [
    {
     "name": "stdout",
     "output_type": "stream",
     "text": [
      "               Total Sold\n",
      "Main Category            \n",
      "Fashion              9968\n",
      "Electronics          9825\n",
      "Home                 9799\n",
      "Appliances           9609\n"
     ]
    }
   ],
   "source": [
    "orders = data.groupby('Main Category').agg({'Total Sold': 'max'}).sort_values(by= 'Total Sold' ,ascending = False)\n",
    "print(orders)"
   ]
  },
  {
   "cell_type": "markdown",
   "id": "d51bd395-0546-432e-9154-0c719b846f80",
   "metadata": {},
   "source": [
    "**HIGH ORDERED MAIN CATEGORY is FASHION**"
   ]
  },
  {
   "cell_type": "code",
   "execution_count": 26,
   "id": "23e3f793-ba07-4960-b429-5583e261f1b8",
   "metadata": {},
   "outputs": [],
   "source": [
    "orders = data.groupby('Main Category').agg({'Total Sold': 'mean'}).sort_values(by= 'Total Sold' ,ascending = False)"
   ]
  },
  {
   "cell_type": "code",
   "execution_count": 28,
   "id": "637403df-5ab2-4cad-bfa9-f3dc9a38135e",
   "metadata": {},
   "outputs": [
    {
     "name": "stdout",
     "output_type": "stream",
     "text": [
      "                Total Sold\n",
      "Main Category             \n",
      "Electronics    5186.979592\n",
      "Home           4864.169811\n",
      "Fashion        4789.000000\n",
      "Appliances     4717.660377\n"
     ]
    }
   ],
   "source": [
    "orders = data.groupby('Main Category').agg({'Total Sold': 'mean'}).sort_values(by= 'Total Sold' ,ascending = False)\n",
    "print(orders)"
   ]
  },
  {
   "cell_type": "markdown",
   "id": "9594ccad-7871-4564-9809-1f86fb32a7c1",
   "metadata": {},
   "source": [
    "**insight 3: which saller has most orders**"
   ]
  },
  {
   "cell_type": "code",
   "execution_count": 33,
   "id": "0ade5bf5-c814-4ff8-a65b-bfa6d6a4b3e3",
   "metadata": {},
   "outputs": [
    {
     "name": "stdout",
     "output_type": "stream",
     "text": [
      "                    Total Sold\n",
      "Seller                        \n",
      "Flipkart Assured          9968\n",
      "RetailNet                 9825\n",
      "HomeCare Solutions        9799\n",
      "MobileHub                 9741\n",
      "FashionPlus               9637\n"
     ]
    }
   ],
   "source": [
    "seller_data = data.groupby('Seller').agg({'Total Sold': 'max'}).sort_values(by= 'Total Sold' ,ascending = False)\n",
    "print(seller_data.head(5)) "
   ]
  },
  {
   "cell_type": "markdown",
   "id": "e0c55d02-685d-4b9b-a610-411236e04040",
   "metadata": {},
   "source": [
    "*bigest seller is FLIPKART ASSURES*"
   ]
  },
  {
   "cell_type": "markdown",
   "id": "7186a0da-edea-49cc-9996-9fa2b0fd5fe0",
   "metadata": {},
   "source": [
    "AVARAGE Discount (%)\n"
   ]
  },
  {
   "cell_type": "code",
   "execution_count": 37,
   "id": "a53b7e9e-74e2-47fe-a442-171f07738848",
   "metadata": {},
   "outputs": [
    {
     "name": "stdout",
     "output_type": "stream",
     "text": [
      "AVARAGE Discount (%) = 26.19191919191919 %\n"
     ]
    }
   ],
   "source": [
    "print(\"AVARAGE Discount (%) =\",data['Discount (%)'].mean(),\"%\")"
   ]
  },
  {
   "cell_type": "code",
   "execution_count": null,
   "id": "98764a79-39ca-4720-94c7-8bac66f6a101",
   "metadata": {},
   "outputs": [],
   "source": []
  },
  {
   "cell_type": "code",
   "execution_count": null,
   "id": "fd8016c1-0bad-4cc6-9f98-38ef5a30ee83",
   "metadata": {},
   "outputs": [],
   "source": []
  },
  {
   "cell_type": "code",
   "execution_count": null,
   "id": "57d9fd88-5177-4ef1-aa58-8d21dedd070b",
   "metadata": {},
   "outputs": [],
   "source": []
  },
  {
   "cell_type": "code",
   "execution_count": null,
   "id": "69fe0ca7-3873-418f-9f4a-05122e3c028b",
   "metadata": {},
   "outputs": [],
   "source": []
  },
  {
   "cell_type": "code",
   "execution_count": null,
   "id": "13528883-3610-4fba-b72a-7e5d517d1a88",
   "metadata": {},
   "outputs": [],
   "source": []
  }
 ],
 "metadata": {
  "kernelspec": {
   "display_name": "Python [conda env:base] *",
   "language": "python",
   "name": "conda-base-py"
  },
  "language_info": {
   "codemirror_mode": {
    "name": "ipython",
    "version": 3
   },
   "file_extension": ".py",
   "mimetype": "text/x-python",
   "name": "python",
   "nbconvert_exporter": "python",
   "pygments_lexer": "ipython3",
   "version": "3.12.7"
  }
 },
 "nbformat": 4,
 "nbformat_minor": 5
}
